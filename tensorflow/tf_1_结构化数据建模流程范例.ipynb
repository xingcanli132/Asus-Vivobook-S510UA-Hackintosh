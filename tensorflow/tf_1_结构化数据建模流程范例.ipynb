{
  "nbformat": 4,
  "nbformat_minor": 0,
  "metadata": {
    "colab": {
      "name": "tf-1 结构化数据建模流程范例.ipynb",
      "provenance": [],
      "toc_visible": true,
      "authorship_tag": "ABX9TyP7PHAIwH8RiKsXIYpjtQXx"
    },
    "kernelspec": {
      "name": "python3",
      "display_name": "Python 3"
    },
    "language_info": {
      "name": "python"
    }
  },
  "cells": [
    {
      "cell_type": "code",
      "metadata": {
        "colab": {
          "base_uri": "https://localhost:8080/"
        },
        "id": "aYRkxCPdJgSB",
        "outputId": "a56c4cf9-c893-4085-f671-305ecc7d4a4f"
      },
      "source": [
        "!git clone https://github.com/lyhue1991/eat_tensorflow2_in_30_days.git"
      ],
      "execution_count": null,
      "outputs": [
        {
          "output_type": "stream",
          "text": [
            "Cloning into 'eat_tensorflow2_in_30_days'...\n",
            "remote: Enumerating objects: 14617, done.\u001b[K\n",
            "remote: Total 14617 (delta 0), reused 0 (delta 0), pack-reused 14617\u001b[K\n",
            "Receiving objects: 100% (14617/14617), 59.86 MiB | 27.49 MiB/s, done.\n",
            "Resolving deltas: 100% (13233/13233), done.\n",
            "Checking out files: 100% (12529/12529), done.\n"
          ],
          "name": "stdout"
        }
      ]
    },
    {
      "cell_type": "code",
      "metadata": {
        "colab": {
          "base_uri": "https://localhost:8080/"
        },
        "id": "OVh2bexHJ7Bv",
        "outputId": "e0f3d1d0-249f-4b76-abc7-e6a0bd112c2f"
      },
      "source": [
        "%ls"
      ],
      "execution_count": null,
      "outputs": [
        {
          "output_type": "stream",
          "text": [
            "\u001b[0m\u001b[01;34meat_tensorflow2_in_30_days\u001b[0m/  \u001b[01;34msample_data\u001b[0m/\n"
          ],
          "name": "stdout"
        }
      ]
    },
    {
      "cell_type": "code",
      "metadata": {
        "id": "NdZrP2CkKGHk"
      },
      "source": [
        "import numpy as np\n",
        "import pandas as pd\n",
        "import matplotlib.pyplot as plt\n",
        "import tensorflow as tf\n",
        "from tensorflow.keras import models, layers"
      ],
      "execution_count": null,
      "outputs": []
    },
    {
      "cell_type": "code",
      "metadata": {
        "colab": {
          "base_uri": "https://localhost:8080/",
          "height": 402
        },
        "id": "NFsLbM5yKYMu",
        "outputId": "c6a866a8-d777-4e71-f08c-715dd15dd06a"
      },
      "source": [
        "df_train_raw = pd.read_csv('./eat_tensorflow2_in_30_days/data/titanic/train.csv')\n",
        "df_test_raw = pd.read_csv('./eat_tensorflow2_in_30_days/data/titanic/test.csv')\n",
        "df_train_raw.head(10)"
      ],
      "execution_count": null,
      "outputs": [
        {
          "output_type": "execute_result",
          "data": {
            "text/html": [
              "<div>\n",
              "<style scoped>\n",
              "    .dataframe tbody tr th:only-of-type {\n",
              "        vertical-align: middle;\n",
              "    }\n",
              "\n",
              "    .dataframe tbody tr th {\n",
              "        vertical-align: top;\n",
              "    }\n",
              "\n",
              "    .dataframe thead th {\n",
              "        text-align: right;\n",
              "    }\n",
              "</style>\n",
              "<table border=\"1\" class=\"dataframe\">\n",
              "  <thead>\n",
              "    <tr style=\"text-align: right;\">\n",
              "      <th></th>\n",
              "      <th>PassengerId</th>\n",
              "      <th>Survived</th>\n",
              "      <th>Pclass</th>\n",
              "      <th>Name</th>\n",
              "      <th>Sex</th>\n",
              "      <th>Age</th>\n",
              "      <th>SibSp</th>\n",
              "      <th>Parch</th>\n",
              "      <th>Ticket</th>\n",
              "      <th>Fare</th>\n",
              "      <th>Cabin</th>\n",
              "      <th>Embarked</th>\n",
              "    </tr>\n",
              "  </thead>\n",
              "  <tbody>\n",
              "    <tr>\n",
              "      <th>0</th>\n",
              "      <td>493</td>\n",
              "      <td>0</td>\n",
              "      <td>1</td>\n",
              "      <td>Molson, Mr. Harry Markland</td>\n",
              "      <td>male</td>\n",
              "      <td>55.0</td>\n",
              "      <td>0</td>\n",
              "      <td>0</td>\n",
              "      <td>113787</td>\n",
              "      <td>30.5000</td>\n",
              "      <td>C30</td>\n",
              "      <td>S</td>\n",
              "    </tr>\n",
              "    <tr>\n",
              "      <th>1</th>\n",
              "      <td>53</td>\n",
              "      <td>1</td>\n",
              "      <td>1</td>\n",
              "      <td>Harper, Mrs. Henry Sleeper (Myna Haxtun)</td>\n",
              "      <td>female</td>\n",
              "      <td>49.0</td>\n",
              "      <td>1</td>\n",
              "      <td>0</td>\n",
              "      <td>PC 17572</td>\n",
              "      <td>76.7292</td>\n",
              "      <td>D33</td>\n",
              "      <td>C</td>\n",
              "    </tr>\n",
              "    <tr>\n",
              "      <th>2</th>\n",
              "      <td>388</td>\n",
              "      <td>1</td>\n",
              "      <td>2</td>\n",
              "      <td>Buss, Miss. Kate</td>\n",
              "      <td>female</td>\n",
              "      <td>36.0</td>\n",
              "      <td>0</td>\n",
              "      <td>0</td>\n",
              "      <td>27849</td>\n",
              "      <td>13.0000</td>\n",
              "      <td>NaN</td>\n",
              "      <td>S</td>\n",
              "    </tr>\n",
              "    <tr>\n",
              "      <th>3</th>\n",
              "      <td>192</td>\n",
              "      <td>0</td>\n",
              "      <td>2</td>\n",
              "      <td>Carbines, Mr. William</td>\n",
              "      <td>male</td>\n",
              "      <td>19.0</td>\n",
              "      <td>0</td>\n",
              "      <td>0</td>\n",
              "      <td>28424</td>\n",
              "      <td>13.0000</td>\n",
              "      <td>NaN</td>\n",
              "      <td>S</td>\n",
              "    </tr>\n",
              "    <tr>\n",
              "      <th>4</th>\n",
              "      <td>687</td>\n",
              "      <td>0</td>\n",
              "      <td>3</td>\n",
              "      <td>Panula, Mr. Jaako Arnold</td>\n",
              "      <td>male</td>\n",
              "      <td>14.0</td>\n",
              "      <td>4</td>\n",
              "      <td>1</td>\n",
              "      <td>3101295</td>\n",
              "      <td>39.6875</td>\n",
              "      <td>NaN</td>\n",
              "      <td>S</td>\n",
              "    </tr>\n",
              "    <tr>\n",
              "      <th>5</th>\n",
              "      <td>16</td>\n",
              "      <td>1</td>\n",
              "      <td>2</td>\n",
              "      <td>Hewlett, Mrs. (Mary D Kingcome)</td>\n",
              "      <td>female</td>\n",
              "      <td>55.0</td>\n",
              "      <td>0</td>\n",
              "      <td>0</td>\n",
              "      <td>248706</td>\n",
              "      <td>16.0000</td>\n",
              "      <td>NaN</td>\n",
              "      <td>S</td>\n",
              "    </tr>\n",
              "    <tr>\n",
              "      <th>6</th>\n",
              "      <td>228</td>\n",
              "      <td>0</td>\n",
              "      <td>3</td>\n",
              "      <td>Lovell, Mr. John Hall (\"Henry\")</td>\n",
              "      <td>male</td>\n",
              "      <td>20.5</td>\n",
              "      <td>0</td>\n",
              "      <td>0</td>\n",
              "      <td>A/5 21173</td>\n",
              "      <td>7.2500</td>\n",
              "      <td>NaN</td>\n",
              "      <td>S</td>\n",
              "    </tr>\n",
              "    <tr>\n",
              "      <th>7</th>\n",
              "      <td>884</td>\n",
              "      <td>0</td>\n",
              "      <td>2</td>\n",
              "      <td>Banfield, Mr. Frederick James</td>\n",
              "      <td>male</td>\n",
              "      <td>28.0</td>\n",
              "      <td>0</td>\n",
              "      <td>0</td>\n",
              "      <td>C.A./SOTON 34068</td>\n",
              "      <td>10.5000</td>\n",
              "      <td>NaN</td>\n",
              "      <td>S</td>\n",
              "    </tr>\n",
              "    <tr>\n",
              "      <th>8</th>\n",
              "      <td>168</td>\n",
              "      <td>0</td>\n",
              "      <td>3</td>\n",
              "      <td>Skoog, Mrs. William (Anna Bernhardina Karlsson)</td>\n",
              "      <td>female</td>\n",
              "      <td>45.0</td>\n",
              "      <td>1</td>\n",
              "      <td>4</td>\n",
              "      <td>347088</td>\n",
              "      <td>27.9000</td>\n",
              "      <td>NaN</td>\n",
              "      <td>S</td>\n",
              "    </tr>\n",
              "    <tr>\n",
              "      <th>9</th>\n",
              "      <td>752</td>\n",
              "      <td>1</td>\n",
              "      <td>3</td>\n",
              "      <td>Moor, Master. Meier</td>\n",
              "      <td>male</td>\n",
              "      <td>6.0</td>\n",
              "      <td>0</td>\n",
              "      <td>1</td>\n",
              "      <td>392096</td>\n",
              "      <td>12.4750</td>\n",
              "      <td>E121</td>\n",
              "      <td>S</td>\n",
              "    </tr>\n",
              "  </tbody>\n",
              "</table>\n",
              "</div>"
            ],
            "text/plain": [
              "   PassengerId  Survived  Pclass  ...     Fare Cabin  Embarked\n",
              "0          493         0       1  ...  30.5000   C30         S\n",
              "1           53         1       1  ...  76.7292   D33         C\n",
              "2          388         1       2  ...  13.0000   NaN         S\n",
              "3          192         0       2  ...  13.0000   NaN         S\n",
              "4          687         0       3  ...  39.6875   NaN         S\n",
              "5           16         1       2  ...  16.0000   NaN         S\n",
              "6          228         0       3  ...   7.2500   NaN         S\n",
              "7          884         0       2  ...  10.5000   NaN         S\n",
              "8          168         0       3  ...  27.9000   NaN         S\n",
              "9          752         1       3  ...  12.4750  E121         S\n",
              "\n",
              "[10 rows x 12 columns]"
            ]
          },
          "metadata": {
            "tags": []
          },
          "execution_count": 4
        }
      ]
    },
    {
      "cell_type": "markdown",
      "metadata": {
        "id": "oYLifa1OMSZi"
      },
      "source": [
        "字段说明：\n",
        "\n",
        "- Survived:0代表死亡，1代表存活【y标签】\n",
        "- Pclass:乘客所持票类，有三种值(1,2,3) 【转换成onehot编码】\n",
        "\n",
        "- Name:乘客姓名 【舍去】\n",
        "- Sex:乘客性别 【转换成bool特征】\n",
        "- Age:乘客年龄(有缺失) 【数值特征，添加“年龄是否缺失”作为辅助特征】\n",
        "- SibSp:乘客兄弟姐妹/配偶的个数(整数值) 【数值特征】\n",
        "- Parch:乘客父母/孩子的个数(整数值)【数值特征】\n",
        "- Ticket:票号(字符串)【舍去】\n",
        "- Fare:乘客所持票的价格(浮点数，0-500不等) 【数值特征】\n",
        "- Cabin:乘客所在船舱(有缺失) 【添加“所在船舱是否缺失”作为辅助特征】\n",
        "- Embarked:乘客登船港口:S、C、Q(有缺失)【转换成onehot编码，四维度 S,C,Q,nan】"
      ]
    },
    {
      "cell_type": "markdown",
      "metadata": {
        "id": "WWeJEWq7LL5s"
      },
      "source": [
        "## 1. EDA（Exploratory Data Analysis）"
      ]
    },
    {
      "cell_type": "code",
      "metadata": {
        "colab": {
          "base_uri": "https://localhost:8080/",
          "height": 525
        },
        "id": "OdVmYabCLHzf",
        "outputId": "de27b4e8-a18c-474e-fe7f-949ba3e37441"
      },
      "source": [
        "%matplotlib inline\n",
        "%config InlineBackend.figure_format = 'png'\n",
        "\n",
        "ax = df_train_raw['Survived'].value_counts().plot(\n",
        "    kind='bar',\n",
        "    figsize=(12, 8),\n",
        "    fontsize=15,\n",
        "    rot=0  # 轴旋转角度\n",
        ")\n",
        "ax.set_ylabel('Counts', fontsize=15)\n",
        "ax.set_xlabel('Survived', fontsize=15)"
      ],
      "execution_count": null,
      "outputs": [
        {
          "output_type": "execute_result",
          "data": {
            "text/plain": [
              "Text(0.5, 0, 'Survived')"
            ]
          },
          "metadata": {
            "tags": []
          },
          "execution_count": 8
        },
        {
          "output_type": "display_data",
          "data": {
            "image/png": "[encoded data removed]",
            "text/plain": [
              "<Figure size 864x576 with 1 Axes>"
            ]
          },
          "metadata": {
            "tags": [],
            "needs_background": "light"
          }
        }
      ]
    },
    {
      "cell_type": "code",
      "metadata": {
        "colab": {
          "base_uri": "https://localhost:8080/",
          "height": 525
        },
        "id": "Mp7rINq_MD0r",
        "outputId": "0168c504-eab7-4393-8b48-df026a5d0adf"
      },
      "source": [
        "ax = df_train_raw['Age'].plot(\n",
        "    kind='hist',\n",
        "    bins=20,\n",
        "    color='purple',\n",
        "    figsize=(12, 8),\n",
        "    fontsize=15\n",
        ")\n",
        "ax.set_ylabel('Frequency',fontsize = 15)\n",
        "ax.set_xlabel('Age',fontsize = 15)"
      ],
      "execution_count": null,
      "outputs": [
        {
          "output_type": "execute_result",
          "data": {
            "text/plain": [
              "Text(0.5, 0, 'Age')"
            ]
          },
          "metadata": {
            "tags": []
          },
          "execution_count": 9
        },
        {
          "output_type": "display_data",
          "data": {
            "image/png": "[encoded data removed]",
            "text/plain": [
              "<Figure size 864x576 with 1 Axes>"
            ]
          },
          "metadata": {
            "tags": [],
            "needs_background": "light"
          }
        }
      ]
    },
    {
      "cell_type": "code",
      "metadata": {
        "colab": {
          "base_uri": "https://localhost:8080/",
          "height": 525
        },
        "id": "v1JdWqTCNCpU",
        "outputId": "c5b94aa0-17d0-4ccc-abcf-8f154d7976c5"
      },
      "source": [
        "ax = df_train_raw.query('Survived == 0')['Age'].plot(kind = 'density',\n",
        "                      figsize = (12,8),fontsize=15)\n",
        "df_train_raw.query('Survived == 1')['Age'].plot(kind = 'density',\n",
        "                      figsize = (12,8),fontsize=15)\n",
        "ax.legend(['Survived==0','Survived==1'],fontsize = 12)\n",
        "ax.set_ylabel('Density',fontsize = 15)\n",
        "ax.set_xlabel('Age',fontsize = 15)"
      ],
      "execution_count": null,
      "outputs": [
        {
          "output_type": "execute_result",
          "data": {
            "text/plain": [
              "Text(0.5, 0, 'Age')"
            ]
          },
          "metadata": {
            "tags": []
          },
          "execution_count": 11
        },
        {
          "output_type": "display_data",
          "data": {
            "image/png": "[encoded data removed]",
            "text/plain": [
              "<Figure size 864x576 with 1 Axes>"
            ]
          },
          "metadata": {
            "tags": [],
            "needs_background": "light"
          }
        }
      ]
    },
    {
      "cell_type": "markdown",
      "metadata": {
        "id": "qaRTpb_7NV0n"
      },
      "source": [
        "## 2. 数据处理"
      ]
    },
    {
      "cell_type": "code",
      "metadata": {
        "colab": {
          "base_uri": "https://localhost:8080/"
        },
        "id": "lbFFarnINL4D",
        "outputId": "3777f717-25b8-44c1-8688-661ef26cc09e"
      },
      "source": [
        "def preprocessing(data):\n",
        "\n",
        "  df_result = pd.DataFrame()\n",
        "\n",
        "  # Pclass\n",
        "  df_Pclass = pd.get_dummies(data['Pclass'])  # 离散特征 one-hot 编码\n",
        "  df_Pclass.columns = ['Pclass_' + str(x) for x in df_Pclass.columns]\n",
        "  df_result = pd.concat([\n",
        "               df_result,\n",
        "               df_Pclass,\n",
        "              ],\n",
        "              axis=1   # 1 列，0 行\n",
        "              )\n",
        "\n",
        "  # Sex\n",
        "  df_Sex = pd.get_dummies(data[\"Sex\"])\n",
        "  df_result = pd.concat(\n",
        "      [\n",
        "       df_result,\n",
        "       df_Sex\n",
        "      ],\n",
        "      axis=1\n",
        "  )\n",
        "\n",
        "  # Age \n",
        "  df_result['Age'] = data['Age'].fillna(0)  # 使用 0 填充 Nan\n",
        "  df_result['Age_null'] = pd.isna(data['Age']).astype('int32')  # 标记填充过的样本\n",
        "\n",
        "  # SibSp,Parch,Fare\n",
        "  df_result['SibSp'] = data['SibSp']\n",
        "  df_result['Parch'] = data['Parch']\n",
        "  df_result['Fare'] = data['Fare']\n",
        "\n",
        "\n",
        "  # Carbin\n",
        "  df_result['Cabin_null'] =  pd.isna(data['Cabin']).astype('int32')\n",
        "\n",
        "  # Embarked\n",
        "  df_Embarked = pd.get_dummies(data['Embarked'],dummy_na=True)  # dummy_na: bool, default False Add a column to indicate NaNs, if False NaNs are ignored.\n",
        "  df_Embarked.columns = ['Embarked_' + str(x) for x in df_Embarked.columns]\n",
        "  df_result = pd.concat([df_result, df_Embarked],\n",
        "                        axis=1\n",
        "                        )\n",
        "\n",
        "  return(df_result)\n",
        "\n",
        "\n",
        "x_train = preprocessing(df_train_raw)\n",
        "y_train = df_train_raw['Survived'].values\n",
        "\n",
        "x_test = preprocessing(df_test_raw)\n",
        "y_test = df_test_raw['Survived'].values\n",
        "\n",
        "print(\"x_train.shape =\", x_train.shape )\n",
        "print(\"x_test.shape =\", x_test.shape )\n"
      ],
      "execution_count": null,
      "outputs": [
        {
          "output_type": "stream",
          "text": [
            "x_train.shape = (712, 15)\n",
            "x_test.shape = (179, 15)\n"
          ],
          "name": "stdout"
        }
      ]
    },
    {
      "cell_type": "markdown",
      "metadata": {
        "id": "-CDDLjuBSDJ-"
      },
      "source": [
        "## 3. 定义模型\n",
        "\n",
        "使用 Keras 接口有以下 3 种方式构建模型：\n",
        "1. 使用 Sequential 按层顺序构建模型\n",
        "2. 使用函数式 API 建任意结构模型\n",
        "3. 继承 Model 基类构建自定义模型。\n",
        "\n",
        "此处选择使用最简单的 Sequential，按层顺序模型。"
      ]
    },
    {
      "cell_type": "code",
      "metadata": {
        "colab": {
          "base_uri": "https://localhost:8080/"
        },
        "id": "E4Jc_holR_sf",
        "outputId": "1898576a-02e4-4e7e-cfe9-8a025eaf8242"
      },
      "source": [
        "tf.keras.backend.clear_session()\n",
        "# 销毁当前的TF图并创建一个新图,有助于避免旧模型/图层混乱。\n",
        "\n",
        "model = models.Sequential()\n",
        "model.add(layers.Dense(20, activation='relu', input_shape=(15,)))\n",
        "model.add(layers.Dense(10, activation='relu'))\n",
        "model.add(layers.Dense(1, activation='sigmoid'))\n",
        "\n",
        "model.summary()"
      ],
      "execution_count": null,
      "outputs": [
        {
          "output_type": "stream",
          "text": [
            "Model: \"sequential\"\n",
            "_________________________________________________________________\n",
            "Layer (type)                 Output Shape              Param #   \n",
            "=================================================================\n",
            "dense (Dense)                (None, 20)                320       \n",
            "_________________________________________________________________\n",
            "dense_1 (Dense)              (None, 10)                210       \n",
            "_________________________________________________________________\n",
            "dense_2 (Dense)              (None, 1)                 11        \n",
            "=================================================================\n",
            "Total params: 541\n",
            "Trainable params: 541\n",
            "Non-trainable params: 0\n",
            "_________________________________________________________________\n"
          ],
          "name": "stdout"
        }
      ]
    },
    {
      "cell_type": "markdown",
      "metadata": {
        "id": "464BYDlyTvfH"
      },
      "source": [
        "## 4. 训练模型\n",
        "\n",
        "训练模型通常有 3 种方法：\n",
        "1. 内置 fit 方法\n",
        "2. 内置 train_on_batch 方法\n",
        "3. 自定义训练循环。\n",
        "\n",
        "选择最常用也最简单的内置 fit 方法。"
      ]
    },
    {
      "cell_type": "code",
      "metadata": {
        "colab": {
          "base_uri": "https://localhost:8080/"
        },
        "id": "QpgCh0iWSCk-",
        "outputId": "176e4f97-05a7-4854-fa04-4878fc7226f9"
      },
      "source": [
        "# 二分类问题选择二元交叉熵损失函数\n",
        "\n",
        "model.compile(\n",
        "    optimizer='adam',\n",
        "    loss='binary_crossentropy',\n",
        "    metrics=['AUC']\n",
        ")\n",
        "\n",
        "history = model.fit(x_train, y_train, batch_size=64, epochs=30, validation_split=0.2)  # 分割部分数据进行验证\n"
      ],
      "execution_count": null,
      "outputs": [
        {
          "output_type": "stream",
          "text": [
            "Epoch 1/30\n",
            "9/9 [==============================] - 1s 44ms/step - loss: 1.0057 - auc: 0.4185 - val_loss: 0.8876 - val_auc: 0.5135\n",
            "Epoch 2/30\n",
            "9/9 [==============================] - 0s 7ms/step - loss: 0.7796 - auc: 0.5954 - val_loss: 0.7076 - val_auc: 0.6531\n",
            "Epoch 3/30\n",
            "9/9 [==============================] - 0s 7ms/step - loss: 0.6744 - auc: 0.6729 - val_loss: 0.7276 - val_auc: 0.6237\n",
            "Epoch 4/30\n",
            "9/9 [==============================] - 0s 8ms/step - loss: 0.6445 - auc: 0.6937 - val_loss: 0.7113 - val_auc: 0.6595\n",
            "Epoch 5/30\n",
            "9/9 [==============================] - 0s 8ms/step - loss: 0.6753 - auc: 0.6939 - val_loss: 0.6850 - val_auc: 0.6599\n",
            "Epoch 6/30\n",
            "9/9 [==============================] - 0s 8ms/step - loss: 0.6158 - auc: 0.7129 - val_loss: 0.6658 - val_auc: 0.6717\n",
            "Epoch 7/30\n",
            "9/9 [==============================] - 0s 7ms/step - loss: 0.6019 - auc: 0.7164 - val_loss: 0.6534 - val_auc: 0.6903\n",
            "Epoch 8/30\n",
            "9/9 [==============================] - 0s 6ms/step - loss: 0.6133 - auc: 0.7203 - val_loss: 0.6445 - val_auc: 0.6864\n",
            "Epoch 9/30\n",
            "9/9 [==============================] - 0s 7ms/step - loss: 0.5897 - auc: 0.7429 - val_loss: 0.6387 - val_auc: 0.6909\n",
            "Epoch 10/30\n",
            "9/9 [==============================] - 0s 7ms/step - loss: 0.5599 - auc: 0.7864 - val_loss: 0.6335 - val_auc: 0.7034\n",
            "Epoch 11/30\n",
            "9/9 [==============================] - 0s 7ms/step - loss: 0.5777 - auc: 0.7552 - val_loss: 0.6270 - val_auc: 0.7070\n",
            "Epoch 12/30\n",
            "9/9 [==============================] - 0s 7ms/step - loss: 0.5730 - auc: 0.7731 - val_loss: 0.6213 - val_auc: 0.7181\n",
            "Epoch 13/30\n",
            "9/9 [==============================] - 0s 7ms/step - loss: 0.5667 - auc: 0.7630 - val_loss: 0.6165 - val_auc: 0.7136\n",
            "Epoch 14/30\n",
            "9/9 [==============================] - 0s 7ms/step - loss: 0.5589 - auc: 0.7873 - val_loss: 0.6126 - val_auc: 0.7356\n",
            "Epoch 15/30\n",
            "9/9 [==============================] - 0s 7ms/step - loss: 0.5569 - auc: 0.7913 - val_loss: 0.6016 - val_auc: 0.7354\n",
            "Epoch 16/30\n",
            "9/9 [==============================] - 0s 7ms/step - loss: 0.5384 - auc: 0.8164 - val_loss: 0.6030 - val_auc: 0.7400\n",
            "Epoch 17/30\n",
            "9/9 [==============================] - 0s 7ms/step - loss: 0.5524 - auc: 0.7922 - val_loss: 0.5983 - val_auc: 0.7400\n",
            "Epoch 18/30\n",
            "9/9 [==============================] - 0s 8ms/step - loss: 0.5403 - auc: 0.8044 - val_loss: 0.5939 - val_auc: 0.7443\n",
            "Epoch 19/30\n",
            "9/9 [==============================] - 0s 6ms/step - loss: 0.5425 - auc: 0.8047 - val_loss: 0.5892 - val_auc: 0.7525\n",
            "Epoch 20/30\n",
            "9/9 [==============================] - 0s 8ms/step - loss: 0.5251 - auc: 0.8260 - val_loss: 0.5864 - val_auc: 0.7574\n",
            "Epoch 21/30\n",
            "9/9 [==============================] - 0s 8ms/step - loss: 0.5268 - auc: 0.8178 - val_loss: 0.5791 - val_auc: 0.7599\n",
            "Epoch 22/30\n",
            "9/9 [==============================] - 0s 7ms/step - loss: 0.5166 - auc: 0.8255 - val_loss: 0.5771 - val_auc: 0.7606\n",
            "Epoch 23/30\n",
            "9/9 [==============================] - 0s 6ms/step - loss: 0.5380 - auc: 0.8113 - val_loss: 0.5755 - val_auc: 0.7632\n",
            "Epoch 24/30\n",
            "9/9 [==============================] - 0s 7ms/step - loss: 0.5172 - auc: 0.8320 - val_loss: 0.5749 - val_auc: 0.7644\n",
            "Epoch 25/30\n",
            "9/9 [==============================] - 0s 8ms/step - loss: 0.5156 - auc: 0.8268 - val_loss: 0.5743 - val_auc: 0.7638\n",
            "Epoch 26/30\n",
            "9/9 [==============================] - 0s 8ms/step - loss: 0.5085 - auc: 0.8206 - val_loss: 0.5756 - val_auc: 0.7663\n",
            "Epoch 27/30\n",
            "9/9 [==============================] - 0s 7ms/step - loss: 0.5079 - auc: 0.8290 - val_loss: 0.5693 - val_auc: 0.7639\n",
            "Epoch 28/30\n",
            "9/9 [==============================] - 0s 8ms/step - loss: 0.5013 - auc: 0.8400 - val_loss: 0.5693 - val_auc: 0.7658\n",
            "Epoch 29/30\n",
            "9/9 [==============================] - 0s 8ms/step - loss: 0.4737 - auc: 0.8743 - val_loss: 0.5744 - val_auc: 0.7685\n",
            "Epoch 30/30\n",
            "9/9 [==============================] - 0s 7ms/step - loss: 0.4956 - auc: 0.8534 - val_loss: 0.5694 - val_auc: 0.7647\n"
          ],
          "name": "stdout"
        }
      ]
    },
    {
      "cell_type": "markdown",
      "metadata": {
        "id": "kEbqKl3mVMK8"
      },
      "source": [
        "## 5. 模型评估\n",
        "训练集效果："
      ]
    },
    {
      "cell_type": "code",
      "metadata": {
        "id": "bP0z9OJ6TuY1"
      },
      "source": [
        "def plot_metric(history, metric):\n",
        "    train_metrics = history.history[metric]\n",
        "    val_metrics = history.history['val_'+metric]\n",
        "    epochs = range(1, len(train_metrics) + 1)\n",
        "    plt.plot(epochs, train_metrics, 'bo--')\n",
        "    plt.plot(epochs, val_metrics, 'ro-')\n",
        "    plt.title('Training and validation '+ metric)\n",
        "    plt.xlabel(\"Epochs\")\n",
        "    plt.ylabel(metric)\n",
        "    plt.legend([\"train_\"+metric, 'val_'+metric])\n",
        "    plt.show()\n"
      ],
      "execution_count": null,
      "outputs": []
    },
    {
      "cell_type": "code",
      "metadata": {
        "colab": {
          "base_uri": "https://localhost:8080/",
          "height": 295
        },
        "id": "88bSOVriXJ3v",
        "outputId": "80124850-1605-4e92-a7b4-13086deb3a20"
      },
      "source": [
        "plot_metric(history, 'loss')"
      ],
      "execution_count": null,
      "outputs": [
        {
          "output_type": "display_data",
          "data": {
            "image/png": "[encoded data removed]",
            "text/plain": [
              "<Figure size 432x288 with 1 Axes>"
            ]
          },
          "metadata": {
            "tags": [],
            "needs_background": "light"
          }
        }
      ]
    },
    {
      "cell_type": "code",
      "metadata": {
        "colab": {
          "base_uri": "https://localhost:8080/",
          "height": 295
        },
        "id": "ezQ0DKYfYRbA",
        "outputId": "c6003545-89d0-4e8c-d7cb-e27e11a8c81c"
      },
      "source": [
        "plot_metric(history, \"auc\")"
      ],
      "execution_count": null,
      "outputs": [
        {
          "output_type": "display_data",
          "data": {
            "image/png": "[encoded data removed]",
            "text/plain": [
              "<Figure size 432x288 with 1 Axes>"
            ]
          },
          "metadata": {
            "tags": [],
            "needs_background": "light"
          }
        }
      ]
    },
    {
      "cell_type": "markdown",
      "metadata": {
        "id": "elFd7AGGZce6"
      },
      "source": [
        "测试集效果："
      ]
    },
    {
      "cell_type": "code",
      "metadata": {
        "colab": {
          "base_uri": "https://localhost:8080/"
        },
        "id": "aXtWs6-cZTrT",
        "outputId": "57b3ea1b-71dd-4db4-9b2a-f8e8ba414e18"
      },
      "source": [
        "model.evaluate(x_test, y_test)"
      ],
      "execution_count": null,
      "outputs": [
        {
          "output_type": "stream",
          "text": [
            "6/6 [==============================] - 0s 2ms/step - loss: 0.5235 - auc: 0.7779\n"
          ],
          "name": "stdout"
        },
        {
          "output_type": "execute_result",
          "data": {
            "text/plain": [
              "[0.5234608054161072, 0.7779146432876587]"
            ]
          },
          "metadata": {
            "tags": []
          },
          "execution_count": 44
        }
      ]
    },
    {
      "cell_type": "markdown",
      "metadata": {
        "id": "LWXI3AxMZpw1"
      },
      "source": [
        "## 6. 使用模型"
      ]
    },
    {
      "cell_type": "code",
      "metadata": {
        "colab": {
          "base_uri": "https://localhost:8080/"
        },
        "id": "Z3U45QhUYwdK",
        "outputId": "513b840b-cbe4-4984-8e9a-c6963137659e"
      },
      "source": [
        "# 预测模型\n",
        "model.predict(x_test[:10])\n",
        "\n",
        "# 等价写法\n",
        "# model(tf.constant(x_test[:10].values, dtype=tf.float32))"
      ],
      "execution_count": null,
      "outputs": [
        {
          "output_type": "execute_result",
          "data": {
            "text/plain": [
              "array([[0.35824636],\n",
              "       [0.49074376],\n",
              "       [0.5202967 ],\n",
              "       [0.8668207 ],\n",
              "       [0.5261116 ],\n",
              "       [0.6100692 ],\n",
              "       [0.36835748],\n",
              "       [0.67273563],\n",
              "       [0.5397028 ],\n",
              "       [0.17484665]], dtype=float32)"
            ]
          },
          "metadata": {
            "tags": []
          },
          "execution_count": 45
        }
      ]
    },
    {
      "cell_type": "code",
      "metadata": {
        "colab": {
          "base_uri": "https://localhost:8080/"
        },
        "id": "dGdPBE0XaFRJ",
        "outputId": "7bf07ff0-b3fc-45de-f4f6-715bbc8e2f63"
      },
      "source": [
        "# 预测类别\n",
        "model.predict_classes(x_test[:10])"
      ],
      "execution_count": null,
      "outputs": [
        {
          "output_type": "stream",
          "text": [
            "/usr/local/lib/python3.7/dist-packages/tensorflow/python/keras/engine/sequential.py:450: UserWarning: `model.predict_classes()` is deprecated and will be removed after 2021-01-01. Please use instead:* `np.argmax(model.predict(x), axis=-1)`,   if your model does multi-class classification   (e.g. if it uses a `softmax` last-layer activation).* `(model.predict(x) > 0.5).astype(\"int32\")`,   if your model does binary classification   (e.g. if it uses a `sigmoid` last-layer activation).\n",
            "  warnings.warn('`model.predict_classes()` is deprecated and '\n"
          ],
          "name": "stderr"
        },
        {
          "output_type": "execute_result",
          "data": {
            "text/plain": [
              "array([[0],\n",
              "       [0],\n",
              "       [1],\n",
              "       [1],\n",
              "       [1],\n",
              "       [1],\n",
              "       [0],\n",
              "       [1],\n",
              "       [1],\n",
              "       [0]], dtype=int32)"
            ]
          },
          "metadata": {
            "tags": []
          },
          "execution_count": 46
        }
      ]
    },
    {
      "cell_type": "markdown",
      "metadata": {
        "id": "DeUMJ_kaaPwZ"
      },
      "source": [
        "## 7. 保存模型\n",
        "\n",
        "可以使用 Keras 方式保存模型，也可以使用 TensorFlow 原生方式保存。前者仅仅适合使用 Python 环境恢复模型，后者则可以跨平台进行模型部署。\n",
        "\n",
        "推荐使用后一种方式进行保存。\n",
        "\n",
        "1. Keras方式保存"
      ]
    },
    {
      "cell_type": "code",
      "metadata": {
        "colab": {
          "base_uri": "https://localhost:8080/"
        },
        "id": "oJzBeGYgaNtd",
        "outputId": "08a301db-435e-4c23-9e62-82bcc4dd5ce6"
      },
      "source": [
        "# 保存模型结构及权重\n",
        "\n",
        "model.save('./eat_tensorflow2_in_30_days/data/1.h5')\n",
        "\n",
        "del model # 删除现有模型\n",
        "\n",
        "# 加载保存的模型\n",
        "model = models.load_model('./eat_tensorflow2_in_30_days/data/1.h5')\n",
        "model.evaluate(x_test, y_test)"
      ],
      "execution_count": null,
      "outputs": [
        {
          "output_type": "stream",
          "text": [
            "6/6 [==============================] - 0s 2ms/step - loss: 0.5235 - auc: 0.7779\n"
          ],
          "name": "stdout"
        },
        {
          "output_type": "execute_result",
          "data": {
            "text/plain": [
              "[0.5234608054161072, 0.7779146432876587]"
            ]
          },
          "metadata": {
            "tags": []
          },
          "execution_count": 47
        }
      ]
    },
    {
      "cell_type": "code",
      "metadata": {
        "id": "rGxkGGI7a_Us"
      },
      "source": [
        "# 保存模型结构\n",
        "json_str = model.to_json()\n",
        "\n",
        "# 恢复模型结构\n",
        "model_json = models.model_from_json(json_str)"
      ],
      "execution_count": null,
      "outputs": []
    },
    {
      "cell_type": "code",
      "metadata": {
        "colab": {
          "base_uri": "https://localhost:8080/"
        },
        "id": "BVNv8wgqbIMI",
        "outputId": "27ff6a15-866f-4033-a99a-843427985ff1"
      },
      "source": [
        "# 保存模型权重\n",
        "model.save_weights('./eat_tensorflow2_in_30_days/data/keras_model_weight.h5')\n",
        "\n",
        "# 恢复模型结构\n",
        "model_json = models.model_from_json(json_str)\n",
        "model_json.compile(\n",
        "        optimizer='adam',\n",
        "        loss='binary_crossentropy',\n",
        "        metrics=['AUC']\n",
        "    )\n",
        "\n",
        "# 加载权重\n",
        "model_json.load_weights('./eat_tensorflow2_in_30_days/data/keras_model_weight.h5')\n",
        "model_json.evaluate(x_test,y_test)"
      ],
      "execution_count": null,
      "outputs": [
        {
          "output_type": "stream",
          "text": [
            "6/6 [==============================] - 0s 2ms/step - loss: 0.5442 - auc: 0.7687\n"
          ],
          "name": "stdout"
        },
        {
          "output_type": "execute_result",
          "data": {
            "text/plain": [
              "[0.5234608054161072, 0.7779146432876587]"
            ]
          },
          "metadata": {
            "tags": []
          },
          "execution_count": 49
        }
      ]
    },
    {
      "cell_type": "markdown",
      "metadata": {
        "id": "m3hE9AudbLJB"
      },
      "source": [
        "2. TensorFlow 原生方式保存"
      ]
    },
    {
      "cell_type": "code",
      "metadata": {
        "colab": {
          "base_uri": "https://localhost:8080/"
        },
        "id": "BvEcQaMwbYI5",
        "outputId": "7b5cb4ea-a15d-4c92-a28d-3e744716aff8"
      },
      "source": [
        "# 保存权重，该方式仅仅保存权重张量\n",
        "model.save_weights('./eat_tensorflow2_in_30_days/data/tf_model_weights.ckpt',save_format = \"tf\")\n",
        "\n",
        "# 保存模型结构与模型参数到文件,该方式保存的模型具有跨平台性便于部署\n",
        "model.save('./eat_tensorflow2_in_30_days/data/tf_model_savedmodel', save_format=\"tf\")\n",
        "print('export saved model.')\n",
        "\n",
        "model_loaded = tf.keras.models.load_model('./eat_tensorflow2_in_30_days/data/tf_model_savedmodel')\n",
        "model_loaded.evaluate(x_test,y_test)"
      ],
      "execution_count": null,
      "outputs": [
        {
          "output_type": "stream",
          "text": [
            "INFO:tensorflow:Assets written to: ./eat_tensorflow2_in_30_days/data/tf_model_savedmodel/assets\n",
            "export saved model.\n",
            "6/6 [==============================] - 0s 2ms/step - loss: 0.5235 - auc: 0.7779\n"
          ],
          "name": "stdout"
        },
        {
          "output_type": "execute_result",
          "data": {
            "text/plain": [
              "[0.5234608054161072, 0.7779146432876587]"
            ]
          },
          "metadata": {
            "tags": []
          },
          "execution_count": 50
        }
      ]
    },
    {
      "cell_type": "code",
      "metadata": {
        "id": "AIAJbdOYbtk-"
      },
      "source": [
        ""
      ],
      "execution_count": null,
      "outputs": []
    }
  ]
}